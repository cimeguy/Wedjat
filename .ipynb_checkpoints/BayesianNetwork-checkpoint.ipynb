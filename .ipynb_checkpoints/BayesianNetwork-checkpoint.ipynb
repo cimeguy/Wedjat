{
 "cells": [
  {
   "cell_type": "code",
   "execution_count": 1,
   "id": "blind-butterfly",
   "metadata": {
    "ExecuteTime": {
     "end_time": "2023-11-04T12:25:12.202792Z",
     "start_time": "2023-11-04T12:25:12.197142Z"
    }
   },
   "outputs": [],
   "source": [
    "# 引入库\n",
    "\n",
    "from pgmpy.models import BayesianModel\n",
    "from pgmpy.estimators import HillClimbSearch, BicScore\n",
    "from pgmpy.inference import BeliefPropagation\n",
    "import pandas as pd\n",
    "import numpy as np\n",
    "from typing import *"
   ]
  },
  {
   "cell_type": "code",
   "execution_count": 2,
   "id": "legislative-antarctica",
   "metadata": {
    "ExecuteTime": {
     "end_time": "2023-11-04T12:25:16.383612Z",
     "start_time": "2023-11-04T12:25:16.367013Z"
    }
   },
   "outputs": [
    {
     "name": "stdout",
     "output_type": "stream",
     "text": [
      "  Packet11 Packet12 Packet13 Packet14\n",
      "0        0        0        0        0\n",
      "1        1        1        1        1\n",
      "2        2        5        2     True\n",
      "3        4        0        4    False\n",
      "4     True     True        5        5\n",
      "5    False     True    False        5\n"
     ]
    }
   ],
   "source": [
    "# 创建数据 # 6个样本，4个特征： 6*4矩阵\n",
    "\n",
    "data = {\n",
    "    'Packet11': [0, 1, 2, 4,True,False],\n",
    "    'Packet12': [0, 1, 5, 0,True,True],\n",
    "    'Packet13': [0, 1, 2, 4,5,False],\n",
    "    'Packet14': [0, 1, True, False,5,5]\n",
    "}\n",
    "\n",
    "X = np.random.rand(10)\n",
    "Y = np.random.rand(10)\n",
    "\n",
    "Z = X + Y\n",
    "data2 = {\n",
    "    'X': X,\n",
    "    'Y': Y,\n",
    "    'Z': Z,\n",
    "}\n",
    "data = pd.DataFrame(data)\n",
    "print(data)"
   ]
  },
  {
   "cell_type": "code",
   "execution_count": 3,
   "id": "great-indonesia",
   "metadata": {
    "ExecuteTime": {
     "end_time": "2023-11-04T12:25:19.644230Z",
     "start_time": "2023-11-04T12:25:19.512470Z"
    }
   },
   "outputs": [
    {
     "data": {
      "application/vnd.jupyter.widget-view+json": {
       "model_id": "90744ec4162c4e6585c93ca54bafc3e1",
       "version_major": 2,
       "version_minor": 0
      },
      "text/plain": [
       "  0%|          | 0/1000000 [00:00<?, ?it/s]"
      ]
     },
     "metadata": {},
     "output_type": "display_data"
    },
    {
     "name": "stdout",
     "output_type": "stream",
     "text": [
      "[('Packet12', 'Packet14')]\n"
     ]
    }
   ],
   "source": [
    "# 学习\n",
    "hc = HillClimbSearch(data)\n",
    "best_model = hc.estimate(scoring_method=BicScore(data))\n",
    "print(best_model.edges())"
   ]
  },
  {
   "cell_type": "code",
   "execution_count": 4,
   "id": "floppy-melbourne",
   "metadata": {
    "ExecuteTime": {
     "end_time": "2023-11-04T12:25:26.589451Z",
     "start_time": "2023-11-04T12:25:26.581357Z"
    }
   },
   "outputs": [
    {
     "data": {
      "text/plain": [
       "(Packet12 ⟂ Packet13, Packet11)\n",
       "(Packet12 ⟂ Packet11 | Packet13)\n",
       "(Packet12 ⟂ Packet13, Packet11 | Packet14)\n",
       "(Packet12 ⟂ Packet13 | Packet11)\n",
       "(Packet12 ⟂ Packet11 | Packet13, Packet14)\n",
       "(Packet12 ⟂ Packet13 | Packet11, Packet14)\n",
       "(Packet13 ⟂ Packet12, Packet14, Packet11)\n",
       "(Packet13 ⟂ Packet14, Packet11 | Packet12)\n",
       "(Packet13 ⟂ Packet12, Packet11 | Packet14)\n",
       "(Packet13 ⟂ Packet12, Packet14 | Packet11)\n",
       "(Packet13 ⟂ Packet11 | Packet12, Packet14)\n",
       "(Packet13 ⟂ Packet14 | Packet12, Packet11)\n",
       "(Packet13 ⟂ Packet12 | Packet11, Packet14)\n",
       "(Packet14 ⟂ Packet13, Packet11)\n",
       "(Packet14 ⟂ Packet13, Packet11 | Packet12)\n",
       "(Packet14 ⟂ Packet11 | Packet13)\n",
       "(Packet14 ⟂ Packet13 | Packet11)\n",
       "(Packet14 ⟂ Packet11 | Packet12, Packet13)\n",
       "(Packet14 ⟂ Packet13 | Packet12, Packet11)\n",
       "(Packet11 ⟂ Packet12, Packet13, Packet14)\n",
       "(Packet11 ⟂ Packet13, Packet14 | Packet12)\n",
       "(Packet11 ⟂ Packet12, Packet14 | Packet13)\n",
       "(Packet11 ⟂ Packet12, Packet13 | Packet14)\n",
       "(Packet11 ⟂ Packet14 | Packet12, Packet13)\n",
       "(Packet11 ⟂ Packet13 | Packet12, Packet14)\n",
       "(Packet11 ⟂ Packet12 | Packet13, Packet14)"
      ]
     },
     "execution_count": 4,
     "metadata": {},
     "output_type": "execute_result"
    }
   ],
   "source": [
    "# 通过检查d-分隔计算变量之间的独立性\n",
    "best_model.get_independencies()"
   ]
  },
  {
   "cell_type": "code",
   "execution_count": 5,
   "id": "negative-sheriff",
   "metadata": {
    "ExecuteTime": {
     "end_time": "2023-11-04T12:33:45.546836Z",
     "start_time": "2023-11-04T12:33:45.536838Z"
    }
   },
   "outputs": [],
   "source": [
    "\n",
    "# 建立Graph # \n",
    "# 考虑到数据包的前后因果性和空间上的相关性\n",
    "def construct_base_edges(n, m) -> List[tuple]:\n",
    "    # n*m ， n flows， each flow has m packets\n",
    "    edges = []\n",
    "    for i in range(1,n+1):\n",
    "        for j in range(1,m+1):\n",
    "            if i == 1 and j == 1:\n",
    "                continue\n",
    "            elif i == 1 and j!= 1:\n",
    "                edges.append((f\"Packet{i}{j-1}\", f\"Packet{i}{j}\"))\n",
    "            elif j == 1 and i!=1:\n",
    "                edges.append((f\"Packet{i-1}{j}\", f\"Packet{i}{j}\"))\n",
    "            else:\n",
    "                edges.append((f\"Packet{i-1}{j}\", f\"Packet{i}{j}\"))\n",
    "                edges.append((f\"Packet{i}{j-1}\", f\"Packet{i}{j}\"))\n",
    "        \n",
    "    \n",
    "    return edges"
   ]
  },
  {
   "cell_type": "code",
   "execution_count": 49,
   "id": "incorporated-section",
   "metadata": {
    "ExecuteTime": {
     "end_time": "2023-11-04T12:34:04.203149Z",
     "start_time": "2023-11-04T12:34:04.196908Z"
    }
   },
   "outputs": [
    {
     "name": "stdout",
     "output_type": "stream",
     "text": [
      "[('Packet11', 'Packet12'), ('Packet12', 'Packet13'), ('Packet11', 'Packet21'), ('Packet12', 'Packet22'), ('Packet21', 'Packet22'), ('Packet13', 'Packet23'), ('Packet22', 'Packet23'), ('Packet21', 'Packet31'), ('Packet22', 'Packet32'), ('Packet31', 'Packet32'), ('Packet23', 'Packet33'), ('Packet32', 'Packet33'), ('Packet31', 'Packet41'), ('Packet32', 'Packet42'), ('Packet41', 'Packet42'), ('Packet33', 'Packet43'), ('Packet42', 'Packet43')]\n"
     ]
    }
   ],
   "source": []
  },
  {
   "cell_type": "code",
   "execution_count": 6,
   "id": "confident-webmaster",
   "metadata": {
    "ExecuteTime": {
     "end_time": "2023-11-04T12:37:38.816565Z",
     "start_time": "2023-11-04T12:37:38.752486Z"
    }
   },
   "outputs": [
    {
     "name": "stdout",
     "output_type": "stream",
     "text": [
      "[('Packet11', 'Packet12'), ('Packet12', 'Packet13'), ('Packet13', 'Packet14')]\n"
     ]
    },
    {
     "name": "stderr",
     "output_type": "stream",
     "text": [
      "/data/users/gaoli/.conda/envs/pytorch111/lib/python3.8/site-packages/pgmpy/models/BayesianModel.py:8: FutureWarning: BayesianModel has been renamed to BayesianNetwork. Please use BayesianNetwork class, BayesianModel will be removed in future.\n",
      "  warnings.warn(\n"
     ]
    }
   ],
   "source": [
    "###### MLE参数学习 #########\n",
    "# 使用 MaximumLikelihoodEstimator 进行参数学习\n",
    "from pgmpy.estimators import HillClimbSearch, K2Score, MaximumLikelihoodEstimator\n",
    "\n",
    "base_edges = construct_base_edges(1,4)\n",
    "print(base_edges)\n",
    "model = BayesianModel(base_edges) # input: 边集合  output: model\n",
    "model.fit(data, estimator=MaximumLikelihoodEstimator) # 最大似然学习参数\n"
   ]
  },
  {
   "cell_type": "code",
   "execution_count": 10,
   "id": "piano-valley",
   "metadata": {
    "ExecuteTime": {
     "end_time": "2023-11-04T12:37:56.319114Z",
     "start_time": "2023-11-04T12:37:56.297800Z"
    }
   },
   "outputs": [
    {
     "name": "stdout",
     "output_type": "stream",
     "text": [
      "信念传播算法的推断结果： {'Packet14': 1}\n"
     ]
    }
   ],
   "source": [
    "###### 信念传播推断 #########\n",
    "\n",
    "# 使用 BeliefPropagation 进行推断\n",
    "inference_bp = BeliefPropagation(model)\n",
    "query_bp = inference_bp.map_query(variables=['Packet14'], evidence={'Packet13': 1,'Packet12': 5})\n",
    "print(\"信念传播算法的推断结果：\", query_bp)\n",
    "# 现在有了初始的因果关系\n",
    "\n"
   ]
  },
  {
   "cell_type": "code",
   "execution_count": null,
   "id": "logical-pleasure",
   "metadata": {},
   "outputs": [],
   "source": []
  }
 ],
 "metadata": {
  "kernelspec": {
   "display_name": "python pytorch111",
   "language": "python",
   "name": "pytorch111"
  },
  "language_info": {
   "codemirror_mode": {
    "name": "ipython",
    "version": 3
   },
   "file_extension": ".py",
   "mimetype": "text/x-python",
   "name": "python",
   "nbconvert_exporter": "python",
   "pygments_lexer": "ipython3",
   "version": "3.8.18"
  },
  "toc": {
   "base_numbering": 1,
   "nav_menu": {},
   "number_sections": true,
   "sideBar": true,
   "skip_h1_title": false,
   "title_cell": "Table of Contents",
   "title_sidebar": "Contents",
   "toc_cell": false,
   "toc_position": {},
   "toc_section_display": true,
   "toc_window_display": false
  }
 },
 "nbformat": 4,
 "nbformat_minor": 5
}
