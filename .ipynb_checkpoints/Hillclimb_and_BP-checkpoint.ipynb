{
 "cells": [
  {
   "cell_type": "code",
   "execution_count": 2,
   "id": "blind-butterfly",
   "metadata": {
    "ExecuteTime": {
     "end_time": "2023-11-04T11:33:15.107427Z",
     "start_time": "2023-11-04T11:33:15.101648Z"
    }
   },
   "outputs": [],
   "source": [
    "# 引入库\n",
    "\n",
    "from pgmpy.models import BayesianModel\n",
    "from pgmpy.estimators import HillClimbSearch, BicScore\n",
    "from pgmpy.inference import BeliefPropagation\n",
    "import pandas as pd"
   ]
  },
  {
   "cell_type": "code",
   "execution_count": 3,
   "id": "legislative-antarctica",
   "metadata": {
    "ExecuteTime": {
     "end_time": "2023-11-04T11:33:52.978637Z",
     "start_time": "2023-11-04T11:33:52.954736Z"
    }
   },
   "outputs": [
    {
     "name": "stdout",
     "output_type": "stream",
     "text": [
      "   Cloudy   Rain  Sprinkler  WetGrass\n",
      "0    True   True       True      True\n",
      "1   False   True      False      True\n",
      "2    True  False       True      True\n",
      "3   False  False      False     False\n",
      "4    True   True       True     False\n",
      "5   False   True      False      True\n"
     ]
    }
   ],
   "source": [
    "# 创建数据 # 6个样本 ： 6*4矩阵\n",
    "\n",
    "data = {\n",
    "    'Cloudy': [True, False, True, False,True,False],\n",
    "    'Rain': [True, True, False, False,True,True],\n",
    "    'Sprinkler': [True, False, True, False,True,False],\n",
    "    'WetGrass': [True, True, True, False,False,True]\n",
    "}\n",
    "data = pd.DataFrame(data)\n",
    "print(data)"
   ]
  },
  {
   "cell_type": "code",
   "execution_count": 4,
   "id": "great-indonesia",
   "metadata": {
    "ExecuteTime": {
     "end_time": "2023-11-04T11:34:33.162018Z",
     "start_time": "2023-11-04T11:34:32.902603Z"
    }
   },
   "outputs": [
    {
     "data": {
      "application/vnd.jupyter.widget-view+json": {
       "model_id": "f8bba61a2da045d9945cbd9c0bc0cbb8",
       "version_major": 2,
       "version_minor": 0
      },
      "text/plain": [
       "  0%|          | 0/1000000 [00:00<?, ?it/s]"
      ]
     },
     "metadata": {},
     "output_type": "display_data"
    },
    {
     "data": {
      "application/vnd.jupyter.widget-view+json": {
       "model_id": "f53dfcd960f34ece837b8b1ec9937506",
       "version_major": 2,
       "version_minor": 0
      },
      "text/plain": [
       "  0%|          | 0/1000000 [00:00<?, ?it/s]"
      ]
     },
     "metadata": {},
     "output_type": "display_data"
    },
    {
     "name": "stdout",
     "output_type": "stream",
     "text": [
      "[('Sprinkler', 'Cloudy')]\n"
     ]
    }
   ],
   "source": [
    "hc = HillClimbSearch(data)\n",
    "best_model = hc.estimate(scoring_method=BicScore(data))\n",
    "best_model = hc.estimate()\n",
    "print(best_model.edges())\n"
   ]
  },
  {
   "cell_type": "code",
   "execution_count": 7,
   "id": "moved-heart",
   "metadata": {
    "ExecuteTime": {
     "end_time": "2023-11-04T11:40:46.528658Z",
     "start_time": "2023-11-04T11:40:46.516812Z"
    }
   },
   "outputs": [
    {
     "data": {
      "text/plain": [
       "(WetGrass ⟂ Sprinkler, Rain, Cloudy)\n",
       "(WetGrass ⟂ Rain, Cloudy | Sprinkler)\n",
       "(WetGrass ⟂ Sprinkler, Cloudy | Rain)\n",
       "(WetGrass ⟂ Sprinkler, Rain | Cloudy)\n",
       "(WetGrass ⟂ Cloudy | Sprinkler, Rain)\n",
       "(WetGrass ⟂ Rain | Sprinkler, Cloudy)\n",
       "(WetGrass ⟂ Sprinkler | Rain, Cloudy)\n",
       "(Sprinkler ⟂ WetGrass, Rain)\n",
       "(Sprinkler ⟂ Rain | WetGrass)\n",
       "(Sprinkler ⟂ WetGrass | Rain)\n",
       "(Sprinkler ⟂ WetGrass, Rain | Cloudy)\n",
       "(Sprinkler ⟂ Rain | WetGrass, Cloudy)\n",
       "(Sprinkler ⟂ WetGrass | Rain, Cloudy)\n",
       "(Rain ⟂ WetGrass, Sprinkler, Cloudy)\n",
       "(Rain ⟂ Sprinkler, Cloudy | WetGrass)\n",
       "(Rain ⟂ WetGrass, Cloudy | Sprinkler)\n",
       "(Rain ⟂ WetGrass, Sprinkler | Cloudy)\n",
       "(Rain ⟂ Cloudy | WetGrass, Sprinkler)\n",
       "(Rain ⟂ Sprinkler | WetGrass, Cloudy)\n",
       "(Rain ⟂ WetGrass | Sprinkler, Cloudy)\n",
       "(Cloudy ⟂ WetGrass, Rain)\n",
       "(Cloudy ⟂ Rain | WetGrass)\n",
       "(Cloudy ⟂ WetGrass, Rain | Sprinkler)\n",
       "(Cloudy ⟂ WetGrass | Rain)\n",
       "(Cloudy ⟂ Rain | WetGrass, Sprinkler)\n",
       "(Cloudy ⟂ WetGrass | Sprinkler, Rain)"
      ]
     },
     "execution_count": 7,
     "metadata": {},
     "output_type": "execute_result"
    }
   ],
   "source": [
    "BicScore(data)\n",
    "best_model.get_independencies()"
   ]
  },
  {
   "cell_type": "code",
   "execution_count": 14,
   "id": "confident-webmaster",
   "metadata": {
    "ExecuteTime": {
     "end_time": "2023-11-03T14:12:21.413730Z",
     "start_time": "2023-11-03T14:12:21.308614Z"
    }
   },
   "outputs": [
    {
     "name": "stdout",
     "output_type": "stream",
     "text": [
      "信念传播算法的推断结果： {'Rain': True}\n"
     ]
    },
    {
     "name": "stderr",
     "output_type": "stream",
     "text": [
      "/data/users/gaoli/.conda/envs/pytorch111/lib/python3.8/site-packages/pgmpy/models/BayesianModel.py:8: FutureWarning: BayesianModel has been renamed to BayesianNetwork. Please use BayesianNetwork class, BayesianModel will be removed in future.\n",
      "  warnings.warn(\n",
      "/data/users/gaoli/.conda/envs/pytorch111/lib/python3.8/site-packages/pgmpy/models/BayesianModel.py:8: FutureWarning: BayesianModel has been renamed to BayesianNetwork. Please use BayesianNetwork class, BayesianModel will be removed in future.\n",
      "  warnings.warn(\n"
     ]
    }
   ],
   "source": [
    "# 使用 MaximumLikelihoodEstimator 进行参数学习\n",
    "from pgmpy.estimators import HillClimbSearch, K2Score, MaximumLikelihoodEstimator\n",
    "model = BayesianModel(best_model.edges())\n",
    "model.fit(data, estimator=MaximumLikelihoodEstimator)\n",
    "\n",
    "# 使用 BeliefPropagation 进行推断\n",
    "inference_bp = BeliefPropagation(model)\n",
    "query_bp = inference_bp.map_query(variables=['Rain'], evidence={'WetGrass': True})\n",
    "print(\"信念传播算法的推断结果：\", query_bp)"
   ]
  },
  {
   "cell_type": "code",
   "execution_count": null,
   "id": "piano-valley",
   "metadata": {},
   "outputs": [],
   "source": [
    "\n",
    "\n",
    "# 现在有了初始的因果关系\n",
    "\n"
   ]
  }
 ],
 "metadata": {
  "kernelspec": {
   "display_name": "python pytorch111",
   "language": "python",
   "name": "pytorch111"
  },
  "language_info": {
   "codemirror_mode": {
    "name": "ipython",
    "version": 3
   },
   "file_extension": ".py",
   "mimetype": "text/x-python",
   "name": "python",
   "nbconvert_exporter": "python",
   "pygments_lexer": "ipython3",
   "version": "3.8.13"
  },
  "toc": {
   "base_numbering": 1,
   "nav_menu": {},
   "number_sections": true,
   "sideBar": true,
   "skip_h1_title": false,
   "title_cell": "Table of Contents",
   "title_sidebar": "Contents",
   "toc_cell": false,
   "toc_position": {},
   "toc_section_display": true,
   "toc_window_display": false
  }
 },
 "nbformat": 4,
 "nbformat_minor": 5
}
